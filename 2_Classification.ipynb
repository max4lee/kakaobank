{
 "cells": [
  {
   "cell_type": "markdown",
   "metadata": {},
   "source": [
    "## Import Packages"
   ]
  },
  {
   "cell_type": "code",
   "execution_count": 1,
   "metadata": {
    "collapsed": false
   },
   "outputs": [
    {
     "name": "stderr",
     "output_type": "stream",
     "text": [
      "/Users/Coupang/anaconda/envs/tf3/lib/python3.6/site-packages/sklearn/cross_validation.py:44: DeprecationWarning: This module was deprecated in version 0.18 in favor of the model_selection module into which all the refactored classes and functions are moved. Also note that the interface of the new CV iterators are different from that of this module. This module will be removed in 0.20.\n",
      "  \"This module will be removed in 0.20.\", DeprecationWarning)\n",
      "/Users/Coupang/anaconda/envs/tf3/lib/python3.6/site-packages/sklearn/learning_curve.py:23: DeprecationWarning: This module was deprecated in version 0.18 in favor of the model_selection module into which all the functions are moved. This module will be removed in 0.20\n",
      "  DeprecationWarning)\n"
     ]
    }
   ],
   "source": [
    "import pandas as pd\n",
    "import numpy as np\n",
    "from sklearn.preprocessing import LabelEncoder\n",
    "import matplotlib.pyplot as plt\n",
    "from SeriesImputer import SeriesImputer\n",
    "from sklearn.cross_validation import train_test_split\n",
    "from sklearn.preprocessing import MinMaxScaler\n",
    "from sklearn.cross_validation import cross_val_score\n",
    "from sklearn.learning_curve import validation_curve\n",
    "from sklearn.linear_model import LogisticRegression\n",
    "from sklearn.ensemble import RandomForestClassifier, VotingClassifier\n",
    "from sklearn.neural_network import MLPClassifier\n",
    "from sklearn.feature_selection import RFE\n",
    "from sklearn.svm import SVC\n",
    "from sklearn.grid_search import GridSearchCV\n",
    "from sklearn.metrics import accuracy_score"
   ]
  },
  {
   "cell_type": "markdown",
   "metadata": {},
   "source": [
    "## Load Data"
   ]
  },
  {
   "cell_type": "code",
   "execution_count": 2,
   "metadata": {
    "collapsed": true
   },
   "outputs": [],
   "source": [
    "raw_data = pd.read_csv('./dataset.tsv', sep='\\t', na_values=['unknown', -1])"
   ]
  },
  {
   "cell_type": "markdown",
   "metadata": {},
   "source": [
    "## Describe Data"
   ]
  },
  {
   "cell_type": "code",
   "execution_count": 3,
   "metadata": {
    "collapsed": false
   },
   "outputs": [
    {
     "data": {
      "text/html": [
       "<div>\n",
       "<table border=\"1\" class=\"dataframe\">\n",
       "  <thead>\n",
       "    <tr style=\"text-align: right;\">\n",
       "      <th></th>\n",
       "      <th>x1</th>\n",
       "      <th>x2</th>\n",
       "      <th>x3</th>\n",
       "      <th>x4</th>\n",
       "      <th>x5</th>\n",
       "      <th>x6</th>\n",
       "      <th>x7</th>\n",
       "      <th>x8</th>\n",
       "      <th>x9</th>\n",
       "      <th>x10</th>\n",
       "      <th>x11</th>\n",
       "      <th>x12</th>\n",
       "      <th>x13</th>\n",
       "      <th>x14</th>\n",
       "      <th>x15</th>\n",
       "      <th>y</th>\n",
       "    </tr>\n",
       "  </thead>\n",
       "  <tbody>\n",
       "    <tr>\n",
       "      <th>0</th>\n",
       "      <td>58</td>\n",
       "      <td>management</td>\n",
       "      <td>married</td>\n",
       "      <td>고학력</td>\n",
       "      <td>no</td>\n",
       "      <td>2143</td>\n",
       "      <td>yes</td>\n",
       "      <td>no</td>\n",
       "      <td>NaN</td>\n",
       "      <td>5</td>\n",
       "      <td>may</td>\n",
       "      <td>1</td>\n",
       "      <td>NaN</td>\n",
       "      <td>0</td>\n",
       "      <td>NaN</td>\n",
       "      <td>no</td>\n",
       "    </tr>\n",
       "    <tr>\n",
       "      <th>1</th>\n",
       "      <td>44</td>\n",
       "      <td>technician</td>\n",
       "      <td>single</td>\n",
       "      <td>중학력</td>\n",
       "      <td>no</td>\n",
       "      <td>29</td>\n",
       "      <td>yes</td>\n",
       "      <td>no</td>\n",
       "      <td>NaN</td>\n",
       "      <td>5</td>\n",
       "      <td>may</td>\n",
       "      <td>1</td>\n",
       "      <td>NaN</td>\n",
       "      <td>0</td>\n",
       "      <td>NaN</td>\n",
       "      <td>no</td>\n",
       "    </tr>\n",
       "    <tr>\n",
       "      <th>2</th>\n",
       "      <td>33</td>\n",
       "      <td>entrepreneur</td>\n",
       "      <td>married</td>\n",
       "      <td>중학력</td>\n",
       "      <td>no</td>\n",
       "      <td>2</td>\n",
       "      <td>yes</td>\n",
       "      <td>yes</td>\n",
       "      <td>NaN</td>\n",
       "      <td>5</td>\n",
       "      <td>may</td>\n",
       "      <td>1</td>\n",
       "      <td>NaN</td>\n",
       "      <td>0</td>\n",
       "      <td>NaN</td>\n",
       "      <td>no</td>\n",
       "    </tr>\n",
       "    <tr>\n",
       "      <th>3</th>\n",
       "      <td>47</td>\n",
       "      <td>blue-collar</td>\n",
       "      <td>married</td>\n",
       "      <td>NaN</td>\n",
       "      <td>no</td>\n",
       "      <td>1506</td>\n",
       "      <td>yes</td>\n",
       "      <td>no</td>\n",
       "      <td>NaN</td>\n",
       "      <td>5</td>\n",
       "      <td>may</td>\n",
       "      <td>1</td>\n",
       "      <td>NaN</td>\n",
       "      <td>0</td>\n",
       "      <td>NaN</td>\n",
       "      <td>no</td>\n",
       "    </tr>\n",
       "    <tr>\n",
       "      <th>4</th>\n",
       "      <td>33</td>\n",
       "      <td>NaN</td>\n",
       "      <td>single</td>\n",
       "      <td>NaN</td>\n",
       "      <td>no</td>\n",
       "      <td>1</td>\n",
       "      <td>no</td>\n",
       "      <td>no</td>\n",
       "      <td>NaN</td>\n",
       "      <td>5</td>\n",
       "      <td>may</td>\n",
       "      <td>1</td>\n",
       "      <td>NaN</td>\n",
       "      <td>0</td>\n",
       "      <td>NaN</td>\n",
       "      <td>no</td>\n",
       "    </tr>\n",
       "  </tbody>\n",
       "</table>\n",
       "</div>"
      ],
      "text/plain": [
       "   x1            x2       x3   x4  x5    x6   x7   x8   x9  x10  x11  x12  \\\n",
       "0  58    management  married  고학력  no  2143  yes   no  NaN    5  may    1   \n",
       "1  44    technician   single  중학력  no    29  yes   no  NaN    5  may    1   \n",
       "2  33  entrepreneur  married  중학력  no     2  yes  yes  NaN    5  may    1   \n",
       "3  47   blue-collar  married  NaN  no  1506  yes   no  NaN    5  may    1   \n",
       "4  33           NaN   single  NaN  no     1   no   no  NaN    5  may    1   \n",
       "\n",
       "   x13  x14  x15   y  \n",
       "0  NaN    0  NaN  no  \n",
       "1  NaN    0  NaN  no  \n",
       "2  NaN    0  NaN  no  \n",
       "3  NaN    0  NaN  no  \n",
       "4  NaN    0  NaN  no  "
      ]
     },
     "execution_count": 3,
     "metadata": {},
     "output_type": "execute_result"
    }
   ],
   "source": [
    "raw_data.head()"
   ]
  },
  {
   "cell_type": "code",
   "execution_count": 4,
   "metadata": {
    "collapsed": false
   },
   "outputs": [
    {
     "name": "stdout",
     "output_type": "stream",
     "text": [
      "[58 44 33 47 35 28 42 43 41 29 53 57 51 45 56 32 25 40 39 52 36 49 60 59 37\n",
      " 50 54 55 38 46 31 27 34 23 48 26 61 22 30 24 21 20 66 62 83 75 67 70 65 68\n",
      " 64 69 72 71 19 76 85 63 90 82 73 74 78 80 94 79 77 86 95 81 18 89 84 87 92\n",
      " 93 88]\n",
      "['management' 'technician' 'entrepreneur' 'blue-collar' nan 'retired'\n",
      " 'admin.' 'services' 'self-employed' 'unemployed' 'housemaid' 'student']\n",
      "['married' 'single' 'divorced']\n",
      "['고학력' '중학력' nan '저학력']\n",
      "['no' 'yes']\n",
      "[ 2143    29     2 ...,  8205 14204 16353]\n",
      "['yes' 'no']\n",
      "['no' 'yes']\n",
      "[nan '무선' '유선']\n",
      "[ 5  6  7  8  9 12 13 14 15 16 19 20 21 23 26 27 28 29 30  2  3  4 11 17 18\n",
      " 24 25  1 10 22 31]\n",
      "['may' 'jun' 'jul' 'aug' 'oct' 'nov' 'dec' 'jan' 'feb' 'mar' 'apr' 'sep']\n",
      "[ 1  2  3  5  4  6  7  8  9 10 11 12 13 19 14 24 16 32 18 22 15 17 25 21 51\n",
      " 63 41 26 28 55 50 38 23 20 29 31 37 30 46 27 58 33 43 35 34 36 39 44]\n",
      "[  nan  151.   91.   86.  143.  147.   89.  140.  176.  101.  174.  170.\n",
      "  167.  195.  165.  129.  188.  196.  172.  118.  119.  104.  171.  117.\n",
      "  164.  132.  131.  123.  159.  186.  111.  115.  116.  173.  178.  166.\n",
      "  110.  152.   96.  103.  150.  175.  193.  181.  185.  154.  145.  138.\n",
      "  126.  180.  109.  158.  168.   97.  182.  127.  130.  194.  125.  102.\n",
      "   26.  179.  183.  155.  112.  120.  137.  124.  187.  190.  113.  162.\n",
      "  134.  169.  189.    8.  144.  191.  184.  177.    5.   99.  133.   93.\n",
      "   92.   10.  100.  156.  198.  106.  105.  153.  146.  128.    7.  121.\n",
      "  160.  107.   90.   27.  197.  136.  122.  157.  149.  135.  114.   98.\n",
      "  192.   34.   95.  163.  141.   31.  199.   94.  108.   29.  268.  247.\n",
      "  253.  226.  244.  239.  245.  231.  238.  258.  204.  254.  265.   71.\n",
      "  223.  246.  250.  266.  240.  205.  261.  259.  241.  260.  234.  251.\n",
      "  161.  237.  262.  248.  255.  220.  227.  206.  249.  235.  228.  263.\n",
      "    2.  270.  232.  252.  207.  200.  269.  233.  256.  273.  272.  242.\n",
      "  264.  208.  222.  271.  203.  221.  202.  216.  201.  257.  229.  214.\n",
      "  210.  217.   75.  213.  230.   73.   76.  267.  211.  215.   77.  236.\n",
      "   82.    6.  209.  274.    1.  243.  212.  275.   80.  224.  276.    9.\n",
      "  279.   12.  280.   88.  277.   85.   84.  219.   24.   21.  225.  282.\n",
      "   41.  294.   49.  307.  303.  329.  331.  308.   64.  314.  287.  330.\n",
      "  332.  302.  323.  318.  333.   60.  326.  139.  335.  312.  305.  325.\n",
      "  327.  336.  309.  328.  322.   39.  316.  313.  292.  295.  310.  300.\n",
      "  320.  317.  289.   57.  321.  142.  301.  315.  337.  334.  340.  319.\n",
      "   17.   74.  148.  341.  299.  324.  342.  339.  345.  346.  304.  281.\n",
      "  343.  338.   14.  347.  344.  291.  348.  349.  306.  285.  350.  284.\n",
      "   25.  283.  278.    4.   87.   83.   79.   70.   13.   28.  293.   37.\n",
      "   78.   63.   22.  296.  355.   66.   19.  360.  354.   15.  351.  362.\n",
      "  358.  298.  365.  286.  364.  363.   47.  361.  288.  366.  356.  352.\n",
      "  359.  357.  297.  367.  353.  368.   42.  290.   67.  370.  369.  371.\n",
      "   50.   36.  373.  374.  372.  375.  378.  311.   59.  379.   35.   40.\n",
      "   18.   43.   20.   69.   81.   38.  385.   56.   55.   44.  391.   72.\n",
      "  390.   32.   62.  399.  393.   65.  377.  395.  388.  389.  386.   61.\n",
      "  412.  405.  434.  394.  382.  459.  440.  397.   68.  461.  462.  463.\n",
      "  422.   51.  457.  430.  442.  403.  454.  392.  410.  401.  474.  475.\n",
      "  477.  478.   54.  476.  380.  479.   46.  495.   58.   48.  518.   52.\n",
      "  515.  511.  536.  387.  218.   33.  544.  435.  436.  555.  433.  446.\n",
      "  558.  469.  616.  561.  553.  384.  592.  467.  585.  480.  421.  667.\n",
      "  626.  426.  595.  381.  376.  648.  521.  452.  449.  633.  398.   53.\n",
      "  460.  551.  414.  557.  687.  404.  651.  686.  425.  504.  578.  674.\n",
      "  416.  586.  411.  756.  450.  745.  514.  417.  424.  776.  396.  683.\n",
      "  529.  439.  415.  456.  407.  458.  532.  481.  791.  701.  531.  792.\n",
      "  413.  445.  784.  419.  455.  491.  542.  470.  472.  717.  437.    3.\n",
      "  782.  728.  828.  524.  562.  761.  492.  775.  493.  464.  760.  466.\n",
      "  465.  656.  831.  490.  432.  655.  427.  749.  838.  769.  535.  587.\n",
      "  778.  854.  779.  850.  771.  594.  842.  589.  603.  484.  489.  486.\n",
      "  409.  444.  680.  808.  485.  503.  690.  772.  774.  526.  431.  420.\n",
      "  528.  500.  826.  804.  508.  547.  805.  541.  543.  871.  530.]\n",
      "[  0   3   4   2   1  11  16   6   5  10  12   7  18   9  21   8  15  14\n",
      "  26  37  13  20  27  17  23  38  29  24  25  51 275  19  30  22  32  40\n",
      "  28  55  35  41]\n",
      "[nan 'failure' 'other' 'success']\n",
      "['no' 'yes']\n"
     ]
    }
   ],
   "source": [
    "for col in raw_data:\n",
    "    print (raw_data[col].unique())"
   ]
  },
  {
   "cell_type": "code",
   "execution_count": 5,
   "metadata": {
    "collapsed": false
   },
   "outputs": [
    {
     "data": {
      "text/html": [
       "<div>\n",
       "<table border=\"1\" class=\"dataframe\">\n",
       "  <thead>\n",
       "    <tr style=\"text-align: right;\">\n",
       "      <th></th>\n",
       "      <th>x1</th>\n",
       "      <th>x2</th>\n",
       "      <th>x3</th>\n",
       "      <th>x4</th>\n",
       "      <th>x5</th>\n",
       "      <th>x6</th>\n",
       "      <th>x7</th>\n",
       "      <th>x8</th>\n",
       "      <th>x9</th>\n",
       "      <th>x10</th>\n",
       "      <th>x11</th>\n",
       "      <th>x12</th>\n",
       "      <th>x13</th>\n",
       "      <th>x14</th>\n",
       "      <th>x15</th>\n",
       "      <th>y</th>\n",
       "    </tr>\n",
       "  </thead>\n",
       "  <tbody>\n",
       "    <tr>\n",
       "      <th>count</th>\n",
       "      <td>40000.000000</td>\n",
       "      <td>39725</td>\n",
       "      <td>40000</td>\n",
       "      <td>38333</td>\n",
       "      <td>40000</td>\n",
       "      <td>40000.000000</td>\n",
       "      <td>40000</td>\n",
       "      <td>40000</td>\n",
       "      <td>28881</td>\n",
       "      <td>40000.000000</td>\n",
       "      <td>40000</td>\n",
       "      <td>40000.000000</td>\n",
       "      <td>7516.000000</td>\n",
       "      <td>40000.000000</td>\n",
       "      <td>7511</td>\n",
       "      <td>40000</td>\n",
       "    </tr>\n",
       "    <tr>\n",
       "      <th>unique</th>\n",
       "      <td>NaN</td>\n",
       "      <td>11</td>\n",
       "      <td>3</td>\n",
       "      <td>3</td>\n",
       "      <td>2</td>\n",
       "      <td>NaN</td>\n",
       "      <td>2</td>\n",
       "      <td>2</td>\n",
       "      <td>2</td>\n",
       "      <td>NaN</td>\n",
       "      <td>12</td>\n",
       "      <td>NaN</td>\n",
       "      <td>NaN</td>\n",
       "      <td>NaN</td>\n",
       "      <td>3</td>\n",
       "      <td>2</td>\n",
       "    </tr>\n",
       "    <tr>\n",
       "      <th>top</th>\n",
       "      <td>NaN</td>\n",
       "      <td>management</td>\n",
       "      <td>married</td>\n",
       "      <td>중학력</td>\n",
       "      <td>no</td>\n",
       "      <td>NaN</td>\n",
       "      <td>yes</td>\n",
       "      <td>no</td>\n",
       "      <td>무선</td>\n",
       "      <td>NaN</td>\n",
       "      <td>may</td>\n",
       "      <td>NaN</td>\n",
       "      <td>NaN</td>\n",
       "      <td>NaN</td>\n",
       "      <td>failure</td>\n",
       "      <td>no</td>\n",
       "    </tr>\n",
       "    <tr>\n",
       "      <th>freq</th>\n",
       "      <td>NaN</td>\n",
       "      <td>8591</td>\n",
       "      <td>24116</td>\n",
       "      <td>20152</td>\n",
       "      <td>39635</td>\n",
       "      <td>NaN</td>\n",
       "      <td>21586</td>\n",
       "      <td>34189</td>\n",
       "      <td>26186</td>\n",
       "      <td>NaN</td>\n",
       "      <td>11674</td>\n",
       "      <td>NaN</td>\n",
       "      <td>NaN</td>\n",
       "      <td>NaN</td>\n",
       "      <td>4399</td>\n",
       "      <td>35099</td>\n",
       "    </tr>\n",
       "    <tr>\n",
       "      <th>mean</th>\n",
       "      <td>41.068150</td>\n",
       "      <td>NaN</td>\n",
       "      <td>NaN</td>\n",
       "      <td>NaN</td>\n",
       "      <td>NaN</td>\n",
       "      <td>1517.338050</td>\n",
       "      <td>NaN</td>\n",
       "      <td>NaN</td>\n",
       "      <td>NaN</td>\n",
       "      <td>15.749375</td>\n",
       "      <td>NaN</td>\n",
       "      <td>2.751550</td>\n",
       "      <td>221.138638</td>\n",
       "      <td>0.594400</td>\n",
       "      <td>NaN</td>\n",
       "      <td>NaN</td>\n",
       "    </tr>\n",
       "    <tr>\n",
       "      <th>std</th>\n",
       "      <td>10.745571</td>\n",
       "      <td>NaN</td>\n",
       "      <td>NaN</td>\n",
       "      <td>NaN</td>\n",
       "      <td>NaN</td>\n",
       "      <td>3150.922909</td>\n",
       "      <td>NaN</td>\n",
       "      <td>NaN</td>\n",
       "      <td>NaN</td>\n",
       "      <td>8.296992</td>\n",
       "      <td>NaN</td>\n",
       "      <td>3.070856</td>\n",
       "      <td>116.026470</td>\n",
       "      <td>2.347014</td>\n",
       "      <td>NaN</td>\n",
       "      <td>NaN</td>\n",
       "    </tr>\n",
       "    <tr>\n",
       "      <th>min</th>\n",
       "      <td>18.000000</td>\n",
       "      <td>NaN</td>\n",
       "      <td>NaN</td>\n",
       "      <td>NaN</td>\n",
       "      <td>NaN</td>\n",
       "      <td>0.000000</td>\n",
       "      <td>NaN</td>\n",
       "      <td>NaN</td>\n",
       "      <td>NaN</td>\n",
       "      <td>1.000000</td>\n",
       "      <td>NaN</td>\n",
       "      <td>1.000000</td>\n",
       "      <td>1.000000</td>\n",
       "      <td>0.000000</td>\n",
       "      <td>NaN</td>\n",
       "      <td>NaN</td>\n",
       "    </tr>\n",
       "    <tr>\n",
       "      <th>25%</th>\n",
       "      <td>33.000000</td>\n",
       "      <td>NaN</td>\n",
       "      <td>NaN</td>\n",
       "      <td>NaN</td>\n",
       "      <td>NaN</td>\n",
       "      <td>146.000000</td>\n",
       "      <td>NaN</td>\n",
       "      <td>NaN</td>\n",
       "      <td>NaN</td>\n",
       "      <td>8.000000</td>\n",
       "      <td>NaN</td>\n",
       "      <td>1.000000</td>\n",
       "      <td>126.000000</td>\n",
       "      <td>0.000000</td>\n",
       "      <td>NaN</td>\n",
       "      <td>NaN</td>\n",
       "    </tr>\n",
       "    <tr>\n",
       "      <th>50%</th>\n",
       "      <td>39.000000</td>\n",
       "      <td>NaN</td>\n",
       "      <td>NaN</td>\n",
       "      <td>NaN</td>\n",
       "      <td>NaN</td>\n",
       "      <td>543.000000</td>\n",
       "      <td>NaN</td>\n",
       "      <td>NaN</td>\n",
       "      <td>NaN</td>\n",
       "      <td>16.000000</td>\n",
       "      <td>NaN</td>\n",
       "      <td>2.000000</td>\n",
       "      <td>189.000000</td>\n",
       "      <td>0.000000</td>\n",
       "      <td>NaN</td>\n",
       "      <td>NaN</td>\n",
       "    </tr>\n",
       "    <tr>\n",
       "      <th>75%</th>\n",
       "      <td>49.000000</td>\n",
       "      <td>NaN</td>\n",
       "      <td>NaN</td>\n",
       "      <td>NaN</td>\n",
       "      <td>NaN</td>\n",
       "      <td>1595.000000</td>\n",
       "      <td>NaN</td>\n",
       "      <td>NaN</td>\n",
       "      <td>NaN</td>\n",
       "      <td>21.000000</td>\n",
       "      <td>NaN</td>\n",
       "      <td>3.000000</td>\n",
       "      <td>322.000000</td>\n",
       "      <td>0.000000</td>\n",
       "      <td>NaN</td>\n",
       "      <td>NaN</td>\n",
       "    </tr>\n",
       "    <tr>\n",
       "      <th>max</th>\n",
       "      <td>95.000000</td>\n",
       "      <td>NaN</td>\n",
       "      <td>NaN</td>\n",
       "      <td>NaN</td>\n",
       "      <td>NaN</td>\n",
       "      <td>102127.000000</td>\n",
       "      <td>NaN</td>\n",
       "      <td>NaN</td>\n",
       "      <td>NaN</td>\n",
       "      <td>31.000000</td>\n",
       "      <td>NaN</td>\n",
       "      <td>63.000000</td>\n",
       "      <td>871.000000</td>\n",
       "      <td>275.000000</td>\n",
       "      <td>NaN</td>\n",
       "      <td>NaN</td>\n",
       "    </tr>\n",
       "  </tbody>\n",
       "</table>\n",
       "</div>"
      ],
      "text/plain": [
       "                  x1          x2       x3     x4     x5             x6     x7  \\\n",
       "count   40000.000000       39725    40000  38333  40000   40000.000000  40000   \n",
       "unique           NaN          11        3      3      2            NaN      2   \n",
       "top              NaN  management  married    중학력     no            NaN    yes   \n",
       "freq             NaN        8591    24116  20152  39635            NaN  21586   \n",
       "mean       41.068150         NaN      NaN    NaN    NaN    1517.338050    NaN   \n",
       "std        10.745571         NaN      NaN    NaN    NaN    3150.922909    NaN   \n",
       "min        18.000000         NaN      NaN    NaN    NaN       0.000000    NaN   \n",
       "25%        33.000000         NaN      NaN    NaN    NaN     146.000000    NaN   \n",
       "50%        39.000000         NaN      NaN    NaN    NaN     543.000000    NaN   \n",
       "75%        49.000000         NaN      NaN    NaN    NaN    1595.000000    NaN   \n",
       "max        95.000000         NaN      NaN    NaN    NaN  102127.000000    NaN   \n",
       "\n",
       "           x8     x9           x10    x11           x12          x13  \\\n",
       "count   40000  28881  40000.000000  40000  40000.000000  7516.000000   \n",
       "unique      2      2           NaN     12           NaN          NaN   \n",
       "top        no     무선           NaN    may           NaN          NaN   \n",
       "freq    34189  26186           NaN  11674           NaN          NaN   \n",
       "mean      NaN    NaN     15.749375    NaN      2.751550   221.138638   \n",
       "std       NaN    NaN      8.296992    NaN      3.070856   116.026470   \n",
       "min       NaN    NaN      1.000000    NaN      1.000000     1.000000   \n",
       "25%       NaN    NaN      8.000000    NaN      1.000000   126.000000   \n",
       "50%       NaN    NaN     16.000000    NaN      2.000000   189.000000   \n",
       "75%       NaN    NaN     21.000000    NaN      3.000000   322.000000   \n",
       "max       NaN    NaN     31.000000    NaN     63.000000   871.000000   \n",
       "\n",
       "                 x14      x15      y  \n",
       "count   40000.000000     7511  40000  \n",
       "unique           NaN        3      2  \n",
       "top              NaN  failure     no  \n",
       "freq             NaN     4399  35099  \n",
       "mean        0.594400      NaN    NaN  \n",
       "std         2.347014      NaN    NaN  \n",
       "min         0.000000      NaN    NaN  \n",
       "25%         0.000000      NaN    NaN  \n",
       "50%         0.000000      NaN    NaN  \n",
       "75%         0.000000      NaN    NaN  \n",
       "max       275.000000      NaN    NaN  "
      ]
     },
     "execution_count": 5,
     "metadata": {},
     "output_type": "execute_result"
    }
   ],
   "source": [
    "raw_data.describe(include='all')"
   ]
  },
  {
   "cell_type": "code",
   "execution_count": 6,
   "metadata": {
    "collapsed": false
   },
   "outputs": [
    {
     "data": {
      "text/plain": [
       "x1         0\n",
       "x2       275\n",
       "x3         0\n",
       "x4      1667\n",
       "x5         0\n",
       "x6         0\n",
       "x7         0\n",
       "x8         0\n",
       "x9     11119\n",
       "x10        0\n",
       "x11        0\n",
       "x12        0\n",
       "x13    32484\n",
       "x14        0\n",
       "x15    32489\n",
       "y          0\n",
       "dtype: int64"
      ]
     },
     "execution_count": 6,
     "metadata": {},
     "output_type": "execute_result"
    }
   ],
   "source": [
    "raw_data.isnull().sum()"
   ]
  },
  {
   "cell_type": "markdown",
   "metadata": {},
   "source": [
    "## Pre-processing"
   ]
  },
  {
   "cell_type": "code",
   "execution_count": 7,
   "metadata": {
    "collapsed": true
   },
   "outputs": [],
   "source": [
    "# Replace binary categorical values with 0, 1\n",
    "le = LabelEncoder()\n",
    "raw_data['x5'] = le.fit_transform(raw_data['x5'])\n",
    "raw_data['x7'] = le.fit_transform(raw_data['x7'])\n",
    "raw_data['x8'] = le.fit_transform(raw_data['x8'])"
   ]
  },
  {
   "cell_type": "code",
   "execution_count": 8,
   "metadata": {
    "collapsed": true
   },
   "outputs": [],
   "source": [
    "# x13 Connected to customers : 1, Not connected to customers : 0\n",
    "# x15 Success : 1, Others : 0\n",
    "raw_data['x13'] = np.where(raw_data['x13'].isnull(), 0, 1)\n",
    "raw_data['x15'] = np.where(raw_data['x15'] == 'success', 1, 0)"
   ]
  },
  {
   "cell_type": "code",
   "execution_count": 9,
   "metadata": {
    "collapsed": true
   },
   "outputs": [],
   "source": [
    "raw_data['x10'] = raw_data['x10'].astype('category')"
   ]
  },
  {
   "cell_type": "code",
   "execution_count": 10,
   "metadata": {
    "collapsed": true
   },
   "outputs": [],
   "source": [
    "# Replace NaN values with mode values\n",
    "si = SeriesImputer()\n",
    "raw_data['x2'] = si.fit_transform(raw_data['x2'])\n",
    "raw_data['x4'] = si.fit_transform(raw_data['x4'])\n",
    "raw_data['x9'] = si.fit_transform(raw_data['x9'])"
   ]
  },
  {
   "cell_type": "code",
   "execution_count": 11,
   "metadata": {
    "collapsed": false
   },
   "outputs": [
    {
     "name": "stderr",
     "output_type": "stream",
     "text": [
      "/Users/Coupang/anaconda/envs/tf3/lib/python3.6/site-packages/sklearn/utils/validation.py:429: DataConversionWarning: Data with input dtype int64 was converted to float64 by MinMaxScaler.\n",
      "  warnings.warn(msg, _DataConversionWarning)\n",
      "/Users/Coupang/anaconda/envs/tf3/lib/python3.6/site-packages/sklearn/preprocessing/data.py:321: DeprecationWarning: Passing 1d arrays as data is deprecated in 0.17 and will raise ValueError in 0.19. Reshape your data either using X.reshape(-1, 1) if your data has a single feature or X.reshape(1, -1) if it contains a single sample.\n",
      "  warnings.warn(DEPRECATION_MSG_1D, DeprecationWarning)\n",
      "/Users/Coupang/anaconda/envs/tf3/lib/python3.6/site-packages/sklearn/preprocessing/data.py:356: DeprecationWarning: Passing 1d arrays as data is deprecated in 0.17 and will raise ValueError in 0.19. Reshape your data either using X.reshape(-1, 1) if your data has a single feature or X.reshape(1, -1) if it contains a single sample.\n",
      "  warnings.warn(DEPRECATION_MSG_1D, DeprecationWarning)\n",
      "/Users/Coupang/anaconda/envs/tf3/lib/python3.6/site-packages/sklearn/preprocessing/data.py:321: DeprecationWarning: Passing 1d arrays as data is deprecated in 0.17 and will raise ValueError in 0.19. Reshape your data either using X.reshape(-1, 1) if your data has a single feature or X.reshape(1, -1) if it contains a single sample.\n",
      "  warnings.warn(DEPRECATION_MSG_1D, DeprecationWarning)\n",
      "/Users/Coupang/anaconda/envs/tf3/lib/python3.6/site-packages/sklearn/preprocessing/data.py:356: DeprecationWarning: Passing 1d arrays as data is deprecated in 0.17 and will raise ValueError in 0.19. Reshape your data either using X.reshape(-1, 1) if your data has a single feature or X.reshape(1, -1) if it contains a single sample.\n",
      "  warnings.warn(DEPRECATION_MSG_1D, DeprecationWarning)\n",
      "/Users/Coupang/anaconda/envs/tf3/lib/python3.6/site-packages/sklearn/preprocessing/data.py:321: DeprecationWarning: Passing 1d arrays as data is deprecated in 0.17 and will raise ValueError in 0.19. Reshape your data either using X.reshape(-1, 1) if your data has a single feature or X.reshape(1, -1) if it contains a single sample.\n",
      "  warnings.warn(DEPRECATION_MSG_1D, DeprecationWarning)\n",
      "/Users/Coupang/anaconda/envs/tf3/lib/python3.6/site-packages/sklearn/preprocessing/data.py:356: DeprecationWarning: Passing 1d arrays as data is deprecated in 0.17 and will raise ValueError in 0.19. Reshape your data either using X.reshape(-1, 1) if your data has a single feature or X.reshape(1, -1) if it contains a single sample.\n",
      "  warnings.warn(DEPRECATION_MSG_1D, DeprecationWarning)\n",
      "/Users/Coupang/anaconda/envs/tf3/lib/python3.6/site-packages/sklearn/preprocessing/data.py:321: DeprecationWarning: Passing 1d arrays as data is deprecated in 0.17 and will raise ValueError in 0.19. Reshape your data either using X.reshape(-1, 1) if your data has a single feature or X.reshape(1, -1) if it contains a single sample.\n",
      "  warnings.warn(DEPRECATION_MSG_1D, DeprecationWarning)\n",
      "/Users/Coupang/anaconda/envs/tf3/lib/python3.6/site-packages/sklearn/preprocessing/data.py:356: DeprecationWarning: Passing 1d arrays as data is deprecated in 0.17 and will raise ValueError in 0.19. Reshape your data either using X.reshape(-1, 1) if your data has a single feature or X.reshape(1, -1) if it contains a single sample.\n",
      "  warnings.warn(DEPRECATION_MSG_1D, DeprecationWarning)\n"
     ]
    }
   ],
   "source": [
    "# Transform numerical values into same scale (between 0 and 1)\n",
    "mms = MinMaxScaler()\n",
    "raw_data['x1'] = mms.fit_transform(raw_data['x1'])\n",
    "raw_data['x6'] = mms.fit_transform(raw_data['x6'])\n",
    "raw_data['x12'] = mms.fit_transform(raw_data['x12'])\n",
    "raw_data['x14'] = mms.fit_transform(raw_data['x14'])"
   ]
  },
  {
   "cell_type": "code",
   "execution_count": 12,
   "metadata": {
    "collapsed": true
   },
   "outputs": [],
   "source": [
    "# Devide data into X and y\n",
    "X = raw_data.iloc[:,:-1]\n",
    "y = raw_data.iloc[:,-1]"
   ]
  },
  {
   "cell_type": "code",
   "execution_count": 13,
   "metadata": {
    "collapsed": false
   },
   "outputs": [
    {
     "data": {
      "text/plain": [
       "array([0, 0, 0, ..., 1, 0, 0])"
      ]
     },
     "execution_count": 13,
     "metadata": {},
     "output_type": "execute_result"
    }
   ],
   "source": [
    "# Encode y values to 0 and 1\n",
    "y = le.fit_transform(y)\n",
    "y"
   ]
  },
  {
   "cell_type": "code",
   "execution_count": 14,
   "metadata": {
    "collapsed": true
   },
   "outputs": [],
   "source": [
    "# One-hot Ecoding for multi-class categorical variables of x\n",
    "X = pd.get_dummies(X)"
   ]
  },
  {
   "cell_type": "code",
   "execution_count": 15,
   "metadata": {
    "collapsed": true
   },
   "outputs": [],
   "source": [
    "# Convert binary values to categorical values\n",
    "X['x5'] = X['x5'].astype('category')\n",
    "X['x7'] = X['x7'].astype('category')\n",
    "X['x8'] = X['x8'].astype('category')\n",
    "X['x13'] = X['x13'].astype('category')\n",
    "X['x15'] = X['x15'].astype('category')"
   ]
  },
  {
   "cell_type": "code",
   "execution_count": 16,
   "metadata": {
    "collapsed": false
   },
   "outputs": [
    {
     "data": {
      "text/html": [
       "<div>\n",
       "<table border=\"1\" class=\"dataframe\">\n",
       "  <thead>\n",
       "    <tr style=\"text-align: right;\">\n",
       "      <th></th>\n",
       "      <th>x1</th>\n",
       "      <th>x5</th>\n",
       "      <th>x6</th>\n",
       "      <th>x7</th>\n",
       "      <th>x8</th>\n",
       "      <th>x12</th>\n",
       "      <th>x13</th>\n",
       "      <th>x14</th>\n",
       "      <th>x15</th>\n",
       "      <th>x2_admin.</th>\n",
       "      <th>...</th>\n",
       "      <th>x11_dec</th>\n",
       "      <th>x11_feb</th>\n",
       "      <th>x11_jan</th>\n",
       "      <th>x11_jul</th>\n",
       "      <th>x11_jun</th>\n",
       "      <th>x11_mar</th>\n",
       "      <th>x11_may</th>\n",
       "      <th>x11_nov</th>\n",
       "      <th>x11_oct</th>\n",
       "      <th>x11_sep</th>\n",
       "    </tr>\n",
       "  </thead>\n",
       "  <tbody>\n",
       "    <tr>\n",
       "      <th>0</th>\n",
       "      <td>0.519481</td>\n",
       "      <td>0</td>\n",
       "      <td>0.020984</td>\n",
       "      <td>1</td>\n",
       "      <td>0</td>\n",
       "      <td>0.0</td>\n",
       "      <td>0</td>\n",
       "      <td>0.0</td>\n",
       "      <td>0</td>\n",
       "      <td>0</td>\n",
       "      <td>...</td>\n",
       "      <td>0</td>\n",
       "      <td>0</td>\n",
       "      <td>0</td>\n",
       "      <td>0</td>\n",
       "      <td>0</td>\n",
       "      <td>0</td>\n",
       "      <td>1</td>\n",
       "      <td>0</td>\n",
       "      <td>0</td>\n",
       "      <td>0</td>\n",
       "    </tr>\n",
       "    <tr>\n",
       "      <th>1</th>\n",
       "      <td>0.337662</td>\n",
       "      <td>0</td>\n",
       "      <td>0.000284</td>\n",
       "      <td>1</td>\n",
       "      <td>0</td>\n",
       "      <td>0.0</td>\n",
       "      <td>0</td>\n",
       "      <td>0.0</td>\n",
       "      <td>0</td>\n",
       "      <td>0</td>\n",
       "      <td>...</td>\n",
       "      <td>0</td>\n",
       "      <td>0</td>\n",
       "      <td>0</td>\n",
       "      <td>0</td>\n",
       "      <td>0</td>\n",
       "      <td>0</td>\n",
       "      <td>1</td>\n",
       "      <td>0</td>\n",
       "      <td>0</td>\n",
       "      <td>0</td>\n",
       "    </tr>\n",
       "    <tr>\n",
       "      <th>2</th>\n",
       "      <td>0.194805</td>\n",
       "      <td>0</td>\n",
       "      <td>0.000020</td>\n",
       "      <td>1</td>\n",
       "      <td>1</td>\n",
       "      <td>0.0</td>\n",
       "      <td>0</td>\n",
       "      <td>0.0</td>\n",
       "      <td>0</td>\n",
       "      <td>0</td>\n",
       "      <td>...</td>\n",
       "      <td>0</td>\n",
       "      <td>0</td>\n",
       "      <td>0</td>\n",
       "      <td>0</td>\n",
       "      <td>0</td>\n",
       "      <td>0</td>\n",
       "      <td>1</td>\n",
       "      <td>0</td>\n",
       "      <td>0</td>\n",
       "      <td>0</td>\n",
       "    </tr>\n",
       "    <tr>\n",
       "      <th>3</th>\n",
       "      <td>0.376623</td>\n",
       "      <td>0</td>\n",
       "      <td>0.014746</td>\n",
       "      <td>1</td>\n",
       "      <td>0</td>\n",
       "      <td>0.0</td>\n",
       "      <td>0</td>\n",
       "      <td>0.0</td>\n",
       "      <td>0</td>\n",
       "      <td>0</td>\n",
       "      <td>...</td>\n",
       "      <td>0</td>\n",
       "      <td>0</td>\n",
       "      <td>0</td>\n",
       "      <td>0</td>\n",
       "      <td>0</td>\n",
       "      <td>0</td>\n",
       "      <td>1</td>\n",
       "      <td>0</td>\n",
       "      <td>0</td>\n",
       "      <td>0</td>\n",
       "    </tr>\n",
       "    <tr>\n",
       "      <th>4</th>\n",
       "      <td>0.194805</td>\n",
       "      <td>0</td>\n",
       "      <td>0.000010</td>\n",
       "      <td>0</td>\n",
       "      <td>0</td>\n",
       "      <td>0.0</td>\n",
       "      <td>0</td>\n",
       "      <td>0.0</td>\n",
       "      <td>0</td>\n",
       "      <td>0</td>\n",
       "      <td>...</td>\n",
       "      <td>0</td>\n",
       "      <td>0</td>\n",
       "      <td>0</td>\n",
       "      <td>0</td>\n",
       "      <td>0</td>\n",
       "      <td>0</td>\n",
       "      <td>1</td>\n",
       "      <td>0</td>\n",
       "      <td>0</td>\n",
       "      <td>0</td>\n",
       "    </tr>\n",
       "  </tbody>\n",
       "</table>\n",
       "<p>5 rows × 71 columns</p>\n",
       "</div>"
      ],
      "text/plain": [
       "         x1 x5        x6 x7 x8  x12 x13  x14 x15  x2_admin.   ...     x11_dec  \\\n",
       "0  0.519481  0  0.020984  1  0  0.0   0  0.0   0          0   ...           0   \n",
       "1  0.337662  0  0.000284  1  0  0.0   0  0.0   0          0   ...           0   \n",
       "2  0.194805  0  0.000020  1  1  0.0   0  0.0   0          0   ...           0   \n",
       "3  0.376623  0  0.014746  1  0  0.0   0  0.0   0          0   ...           0   \n",
       "4  0.194805  0  0.000010  0  0  0.0   0  0.0   0          0   ...           0   \n",
       "\n",
       "   x11_feb  x11_jan  x11_jul  x11_jun  x11_mar  x11_may  x11_nov  x11_oct  \\\n",
       "0        0        0        0        0        0        1        0        0   \n",
       "1        0        0        0        0        0        1        0        0   \n",
       "2        0        0        0        0        0        1        0        0   \n",
       "3        0        0        0        0        0        1        0        0   \n",
       "4        0        0        0        0        0        1        0        0   \n",
       "\n",
       "   x11_sep  \n",
       "0        0  \n",
       "1        0  \n",
       "2        0  \n",
       "3        0  \n",
       "4        0  \n",
       "\n",
       "[5 rows x 71 columns]"
      ]
     },
     "execution_count": 16,
     "metadata": {},
     "output_type": "execute_result"
    }
   ],
   "source": [
    "X.head()"
   ]
  },
  {
   "cell_type": "markdown",
   "metadata": {},
   "source": [
    "## Split Train and Test Data"
   ]
  },
  {
   "cell_type": "code",
   "execution_count": 17,
   "metadata": {
    "collapsed": false
   },
   "outputs": [],
   "source": [
    "from sklearn.cross_validation import train_test_split"
   ]
  },
  {
   "cell_type": "code",
   "execution_count": 18,
   "metadata": {
    "collapsed": true
   },
   "outputs": [],
   "source": [
    "X_train, X_test, y_train, y_test = train_test_split(X, y, test_size=0.2)"
   ]
  },
  {
   "cell_type": "markdown",
   "metadata": {},
   "source": [
    "## Feature Selection"
   ]
  },
  {
   "cell_type": "markdown",
   "metadata": {},
   "source": [
    "### 1) Select From Model : Random Forest"
   ]
  },
  {
   "cell_type": "code",
   "execution_count": 21,
   "metadata": {
    "collapsed": true
   },
   "outputs": [],
   "source": [
    "rf = RandomForestClassifier(n_estimators=1000,\n",
    "                            n_jobs=-1)"
   ]
  },
  {
   "cell_type": "code",
   "execution_count": 22,
   "metadata": {
    "collapsed": false
   },
   "outputs": [
    {
     "data": {
      "text/plain": [
       "RandomForestClassifier(bootstrap=True, class_weight=None, criterion='gini',\n",
       "            max_depth=None, max_features='auto', max_leaf_nodes=None,\n",
       "            min_impurity_split=1e-07, min_samples_leaf=1,\n",
       "            min_samples_split=2, min_weight_fraction_leaf=0.0,\n",
       "            n_estimators=1000, n_jobs=-1, oob_score=False,\n",
       "            random_state=None, verbose=0, warm_start=False)"
      ]
     },
     "execution_count": 22,
     "metadata": {},
     "output_type": "execute_result"
    }
   ],
   "source": [
    "rf.fit(X_train, y_train)"
   ]
  },
  {
   "cell_type": "code",
   "execution_count": 23,
   "metadata": {
    "collapsed": false,
    "scrolled": true
   },
   "outputs": [
    {
     "name": "stdout",
     "output_type": "stream",
     "text": [
      " 1) x1                             0.159072\n",
      " 2) x5                             0.143877\n",
      " 3) x6                             0.060829\n",
      " 4) x7                             0.057485\n",
      " 5) x8                             0.032526\n",
      " 6) x12                            0.026007\n",
      " 7) x13                            0.015260\n",
      " 8) x14                            0.015131\n",
      " 9) x15                            0.014437\n",
      "10) x2_admin.                      0.014006\n",
      "11) x2_blue-collar                 0.013475\n",
      "12) x2_entrepreneur                0.013014\n",
      "13) x2_housemaid                   0.012994\n",
      "14) x2_management                  0.012728\n",
      "15) x2_retired                     0.012565\n",
      "16) x2_self-employed               0.011986\n",
      "17) x2_services                    0.011347\n",
      "18) x2_student                     0.011307\n",
      "19) x2_technician                  0.010823\n",
      "20) x2_unemployed                  0.010772\n",
      "21) x3_divorced                    0.010645\n",
      "22) x3_married                     0.010601\n",
      "23) x3_single                      0.010141\n",
      "24) x4_고학력                         0.009994\n",
      "25) x4_저학력                         0.009281\n",
      "26) x4_중학력                         0.009154\n",
      "27) x9_무선                          0.008920\n",
      "28) x9_유선                          0.008771\n",
      "29) x10_1                          0.008365\n",
      "30) x10_2                          0.008355\n",
      "31) x10_3                          0.008186\n",
      "32) x10_4                          0.008020\n",
      "33) x10_5                          0.007865\n",
      "34) x10_6                          0.007740\n",
      "35) x10_7                          0.007645\n",
      "36) x10_8                          0.007639\n",
      "37) x10_9                          0.007474\n",
      "38) x10_10                         0.007323\n",
      "39) x10_11                         0.007092\n",
      "40) x10_12                         0.007080\n",
      "41) x10_13                         0.007059\n",
      "42) x10_14                         0.007011\n",
      "43) x10_15                         0.006921\n",
      "44) x10_16                         0.006914\n",
      "45) x10_17                         0.006758\n",
      "46) x10_18                         0.006649\n",
      "47) x10_19                         0.006590\n",
      "48) x10_20                         0.006525\n",
      "49) x10_21                         0.006434\n",
      "50) x10_22                         0.006399\n",
      "51) x10_23                         0.006380\n",
      "52) x10_24                         0.006290\n",
      "53) x10_25                         0.006175\n",
      "54) x10_26                         0.006174\n",
      "55) x10_27                         0.006016\n",
      "56) x10_28                         0.005981\n",
      "57) x10_29                         0.005531\n",
      "58) x10_30                         0.005491\n",
      "59) x10_31                         0.005264\n",
      "60) x11_apr                        0.005209\n",
      "61) x11_aug                        0.005115\n",
      "62) x11_dec                        0.005010\n",
      "63) x11_feb                        0.004924\n",
      "64) x11_jan                        0.004863\n",
      "65) x11_jul                        0.004777\n",
      "66) x11_jun                        0.004759\n",
      "67) x11_mar                        0.004232\n",
      "68) x11_may                        0.003984\n",
      "69) x11_nov                        0.003083\n",
      "70) x11_oct                        0.001961\n",
      "71) x11_sep                        0.001587\n"
     ]
    }
   ],
   "source": [
    "importance = rf.feature_importances_\n",
    "index = np.argsort(importance)[::-1]\n",
    "cols = X_train.columns\n",
    "for i in range(X_train.shape[1]):\n",
    "    print(\"%2d) %-*s %f\" % (i + 1, 30, cols[i], importance[index[i]]))"
   ]
  },
  {
   "cell_type": "code",
   "execution_count": 24,
   "metadata": {
    "collapsed": false
   },
   "outputs": [
    {
     "name": "stderr",
     "output_type": "stream",
     "text": [
      "/Users/Coupang/anaconda/envs/tf3/lib/python3.6/site-packages/sklearn/utils/deprecation.py:70: DeprecationWarning: Function transform is deprecated; Support to use estimators as feature selectors will be removed in version 0.19. Use SelectFromModel instead.\n",
      "  warnings.warn(msg, category=DeprecationWarning)\n",
      "/Users/Coupang/anaconda/envs/tf3/lib/python3.6/site-packages/sklearn/utils/deprecation.py:70: DeprecationWarning: Function transform is deprecated; Support to use estimators as feature selectors will be removed in version 0.19. Use SelectFromModel instead.\n",
      "  warnings.warn(msg, category=DeprecationWarning)\n"
     ]
    }
   ],
   "source": [
    "X_train_selected = rf.transform(X_train, threshold=0.01)\n",
    "X_test_selected = rf.transform(X_test, threshold=0.01)"
   ]
  },
  {
   "cell_type": "code",
   "execution_count": 26,
   "metadata": {
    "collapsed": false
   },
   "outputs": [
    {
     "data": {
      "text/plain": [
       "0.88290623562316761"
      ]
     },
     "execution_count": 26,
     "metadata": {},
     "output_type": "execute_result"
    }
   ],
   "source": [
    "scores_rf_1 = cross_val_score(estimator=rf,\n",
    "                         X=X_train_selected,\n",
    "                         y=y_train,\n",
    "                         cv=10)\n",
    "scores_rf_1.mean()"
   ]
  },
  {
   "cell_type": "code",
   "execution_count": 27,
   "metadata": {
    "collapsed": false
   },
   "outputs": [
    {
     "data": {
      "text/plain": [
       "0.88709374556274379"
      ]
     },
     "execution_count": 27,
     "metadata": {},
     "output_type": "execute_result"
    }
   ],
   "source": [
    "lr = LogisticRegression(C=0.1, penalty='l2')\n",
    "scores = cross_val_score(estimator=lr,\n",
    "                        X=X_train_selected,\n",
    "                        y=y_train,\n",
    "                        cv=10)\n",
    "scores.mean()"
   ]
  },
  {
   "cell_type": "code",
   "execution_count": null,
   "metadata": {
    "collapsed": false
   },
   "outputs": [],
   "source": [
    "lr_model = lr.fit(X_train_selected, y_train)\n",
    "y_pred = lr_model.predict(X_test_selected)\n",
    "acc = accuracy_score(y_true=y_test, y_pred=y_pred)\n",
    "acc"
   ]
  },
  {
   "cell_type": "markdown",
   "metadata": {},
   "source": [
    "### RFE : Logistic Regression"
   ]
  },
  {
   "cell_type": "code",
   "execution_count": 28,
   "metadata": {
    "collapsed": false
   },
   "outputs": [
    {
     "data": {
      "text/plain": [
       "RFE(estimator=LogisticRegression(C=0.1, class_weight=None, dual=False, fit_intercept=True,\n",
       "          intercept_scaling=1, max_iter=100, multi_class='ovr', n_jobs=1,\n",
       "          penalty='l2', random_state=None, solver='liblinear', tol=0.0001,\n",
       "          verbose=0, warm_start=False),\n",
       "  n_features_to_select=2, step=1, verbose=0)"
      ]
     },
     "execution_count": 28,
     "metadata": {},
     "output_type": "execute_result"
    }
   ],
   "source": [
    "lr = LogisticRegression(C=0.1, penalty='l2')\n",
    "rfe = RFE(lr, n_features_to_select=2)\n",
    "rfe.fit(X_train, y_train)"
   ]
  },
  {
   "cell_type": "code",
   "execution_count": 29,
   "metadata": {
    "collapsed": false
   },
   "outputs": [
    {
     "name": "stdout",
     "output_type": "stream",
     "text": [
      "[(1, 'x12'), (1, 'x15'), (2, 'x11_mar'), (3, 'x11_may'), (4, 'x11_jan'), (5, 'x11_nov'), (6, 'x11_jun'), (7, 'x11_jul'), (8, 'x11_aug'), (9, 'x7'), (10, 'x11_feb'), (11, 'x10_20'), (12, 'x2_student'), (13, 'x10_19'), (14, 'x10_17'), (15, 'x6'), (16, 'x8'), (17, 'x11_sep'), (18, 'x11_oct'), (19, 'x10_29'), (20, 'x10_10'), (21, 'x10_28'), (22, 'x10_31'), (23, 'x11_dec'), (24, 'x10_13'), (25, 'x2_retired'), (26, 'x3_married'), (27, 'x13'), (28, 'x9_유선'), (29, 'x9_무선'), (30, 'x11_apr'), (31, 'x10_22'), (32, 'x4_저학력'), (33, 'x10_30'), (34, 'x10_15'), (35, 'x10_12'), (36, 'x5'), (37, 'x10_25'), (38, 'x10_3'), (39, 'x2_housemaid'), (40, 'x10_27'), (41, 'x10_14'), (42, 'x10_23'), (43, 'x1'), (44, 'x10_4'), (45, 'x10_1'), (46, 'x4_중학력'), (47, 'x2_entrepreneur'), (48, 'x2_blue-collar'), (49, 'x10_7'), (50, 'x10_21'), (51, 'x10_9'), (52, 'x3_divorced'), (53, 'x3_single'), (54, 'x2_self-employed'), (55, 'x10_26'), (56, 'x2_services'), (57, 'x2_technician'), (58, 'x2_admin.'), (59, 'x2_management'), (60, 'x10_6'), (61, 'x4_고학력'), (62, 'x10_11'), (63, 'x10_2'), (64, 'x10_18'), (65, 'x10_5'), (66, 'x10_8'), (67, 'x14'), (68, 'x10_16'), (69, 'x2_unemployed'), (70, 'x10_24')]\n"
     ]
    }
   ],
   "source": [
    "names = X_train.columns\n",
    "print (sorted(zip(map(lambda x: round(x, 4), rfe.ranking_), names)))"
   ]
  },
  {
   "cell_type": "code",
   "execution_count": 30,
   "metadata": {
    "collapsed": false
   },
   "outputs": [],
   "source": [
    "X_train_rfe = rfe.transform(X_train)\n",
    "X_test_rfe = rfe.transform(X_test)"
   ]
  },
  {
   "cell_type": "code",
   "execution_count": 31,
   "metadata": {
    "collapsed": false
   },
   "outputs": [
    {
     "data": {
      "text/plain": [
       "0.88724995649413629"
      ]
     },
     "execution_count": 31,
     "metadata": {},
     "output_type": "execute_result"
    }
   ],
   "source": [
    "scores = cross_val_score(estimator=lr,\n",
    "                         X=X_train_rfe,\n",
    "                         y=y_train,\n",
    "                         cv=10)\n",
    "scores.mean()"
   ]
  },
  {
   "cell_type": "code",
   "execution_count": 32,
   "metadata": {
    "collapsed": false
   },
   "outputs": [
    {
     "data": {
      "text/plain": [
       "0.88771872604369884"
      ]
     },
     "execution_count": 32,
     "metadata": {},
     "output_type": "execute_result"
    }
   ],
   "source": [
    "scores = cross_val_score(estimator=rf,\n",
    "                         X=X_train_rfe,\n",
    "                         y=y_train,\n",
    "                         cv=10)\n",
    "scores.mean()"
   ]
  },
  {
   "cell_type": "markdown",
   "metadata": {},
   "source": [
    "## Model Selection & Evaluation"
   ]
  },
  {
   "cell_type": "markdown",
   "metadata": {},
   "source": [
    "### 1) Logistic Regression"
   ]
  },
  {
   "cell_type": "code",
   "execution_count": 34,
   "metadata": {
    "collapsed": true
   },
   "outputs": [],
   "source": [
    "p_range = [0.001, 0.01, 0.1, 1.0, 10.0, 100.0]"
   ]
  },
  {
   "cell_type": "code",
   "execution_count": 36,
   "metadata": {
    "collapsed": true
   },
   "outputs": [],
   "source": [
    "train_scores, test_scores = validation_curve(estimator=lr,\n",
    "                                             X=X_train_rfe,\n",
    "                                             y=y_train,\n",
    "                                             param_name='C',\n",
    "                                             param_range=p_range,\n",
    "                                             cv=10)"
   ]
  },
  {
   "cell_type": "code",
   "execution_count": 37,
   "metadata": {
    "collapsed": true
   },
   "outputs": [],
   "source": [
    "train_mean = np.mean(train_scores, axis=1)\n",
    "train_std = np.std(train_scores, axis=1)\n",
    "test_mean = np.mean(test_scores, axis=1)\n",
    "test_std = np.std(test_scores, axis=1)"
   ]
  },
  {
   "cell_type": "code",
   "execution_count": 38,
   "metadata": {
    "collapsed": false
   },
   "outputs": [
    {
     "data": {
      "image/png": "[encoded data removed]",
      "text/plain": [
       "<matplotlib.figure.Figure at 0x1a7ac9f98>"
      ]
     },
     "metadata": {},
     "output_type": "display_data"
    }
   ],
   "source": [
    "plt.plot(p_range, train_mean, color='blue', marker='o', markersize=5, label='training accuracy')\n",
    "plt.fill_between(p_range, train_mean + train_std, train_mean - train_std, alpha=0.15, color='blue')\n",
    "plt.plot(p_range, test_mean, color='green', linestyle='--', marker='s', markersize=5, label='validation accuracy')\n",
    "plt.fill_between(p_range, test_mean + test_std, test_mean - test_std, alpha=0.15, color='green')\n",
    "plt.grid()\n",
    "plt.xscale('log')\n",
    "plt.xlabel('Param C')\n",
    "plt.ylabel('Accuracy')\n",
    "plt.legend(loc='lower right')\n",
    "plt.ylim([0.85, 0.9])\n",
    "plt.show()"
   ]
  },
  {
   "cell_type": "code",
   "execution_count": 40,
   "metadata": {
    "collapsed": false
   },
   "outputs": [
    {
     "data": {
      "text/plain": [
       "0.88724995649413629"
      ]
     },
     "execution_count": 40,
     "metadata": {},
     "output_type": "execute_result"
    }
   ],
   "source": [
    "lr = LogisticRegression(C=0.1, penalty='l2')\n",
    "scores = cross_val_score(estimator=lr,\n",
    "                         X=X_train_rfe,\n",
    "                         y=y_train,\n",
    "                         cv=10)\n",
    "scores.mean()"
   ]
  },
  {
   "cell_type": "markdown",
   "metadata": {},
   "source": [
    "### Random Forest"
   ]
  },
  {
   "cell_type": "code",
   "execution_count": 41,
   "metadata": {
    "collapsed": false
   },
   "outputs": [
    {
     "data": {
      "text/plain": [
       "0.88771872604369884"
      ]
     },
     "execution_count": 41,
     "metadata": {},
     "output_type": "execute_result"
    }
   ],
   "source": [
    "rf = RandomForestClassifier(n_estimators=1000, n_jobs=-1)\n",
    "scores = cross_val_score(estimator=rf,\n",
    "                         X=X_train_rfe,\n",
    "                         y=y_train,\n",
    "                         cv=10)\n",
    "scores.mean()"
   ]
  },
  {
   "cell_type": "markdown",
   "metadata": {},
   "source": [
    "### SVM"
   ]
  },
  {
   "cell_type": "code",
   "execution_count": 49,
   "metadata": {
    "collapsed": false
   },
   "outputs": [
    {
     "data": {
      "text/plain": [
       "0.88724995649413629"
      ]
     },
     "execution_count": 49,
     "metadata": {},
     "output_type": "execute_result"
    }
   ],
   "source": [
    "svc = SVC(kernel='rbf')\n",
    "scores = cross_val_score(estimator=svc,\n",
    "                         X=X_train_rfe,\n",
    "                         y=y_train,\n",
    "                         cv=10)\n",
    "scores.mean()"
   ]
  },
  {
   "cell_type": "code",
   "execution_count": 50,
   "metadata": {
    "collapsed": false
   },
   "outputs": [
    {
     "data": {
      "text/plain": [
       "0.88724995649413629"
      ]
     },
     "execution_count": 50,
     "metadata": {},
     "output_type": "execute_result"
    }
   ],
   "source": [
    "svc_1 = SVC(kernel='linear')\n",
    "scores = cross_val_score(estimator=svc_1,\n",
    "                         X=X_train_rfe,\n",
    "                         y=y_train,\n",
    "                         cv=10)\n",
    "scores.mean()"
   ]
  },
  {
   "cell_type": "markdown",
   "metadata": {},
   "source": [
    "### MLP"
   ]
  },
  {
   "cell_type": "code",
   "execution_count": 52,
   "metadata": {
    "collapsed": true
   },
   "outputs": [],
   "source": [
    "clf = MLPClassifier(solver='lbfgs', hidden_layer_sizes=(5, 2))"
   ]
  },
  {
   "cell_type": "code",
   "execution_count": 53,
   "metadata": {
    "collapsed": false
   },
   "outputs": [
    {
     "data": {
      "text/plain": [
       "0.88215627470398184"
      ]
     },
     "execution_count": 53,
     "metadata": {},
     "output_type": "execute_result"
    }
   ],
   "source": [
    "scores = cross_val_score(estimator=clf,\n",
    "                        X=X_train_rfe,\n",
    "                        y=y_train,\n",
    "                        cv=10)\n",
    "scores.mean()"
   ]
  },
  {
   "cell_type": "markdown",
   "metadata": {},
   "source": [
    "### Majority Vote"
   ]
  },
  {
   "cell_type": "code",
   "execution_count": 58,
   "metadata": {
    "collapsed": false
   },
   "outputs": [],
   "source": [
    "clf1 = LogisticRegression(penalty='l2', C=0.1)\n",
    "clf2 = RandomForestClassifier(n_estimators=1000)\n",
    "clf3 = MLPClassifier(solver='lbfgs', hidden_layer_sizes=(5, 2))\n",
    "clf4 = SVC(kernel='linear', probability=True)"
   ]
  },
  {
   "cell_type": "code",
   "execution_count": 59,
   "metadata": {
    "collapsed": true
   },
   "outputs": [],
   "source": [
    "mv = VotingClassifier(estimators=[\n",
    "    ('lr', clf1), ('mlp', clf3), ('svc', clf4)],\n",
    "                         voting='soft')"
   ]
  },
  {
   "cell_type": "code",
   "execution_count": 60,
   "metadata": {
    "collapsed": false
   },
   "outputs": [
    {
     "data": {
      "text/plain": [
       "0.88268687037347371"
      ]
     },
     "execution_count": 60,
     "metadata": {},
     "output_type": "execute_result"
    }
   ],
   "source": [
    "scores = cross_val_score(estimator=mv,\n",
    "                         X=X_train_rfe,\n",
    "                         y=y_train,\n",
    "                         cv=10)\n",
    "scores.mean()"
   ]
  },
  {
   "cell_type": "markdown",
   "metadata": {},
   "source": [
    "## Evaluate with Test Data - Random Forest"
   ]
  },
  {
   "cell_type": "code",
   "execution_count": 63,
   "metadata": {
    "collapsed": false
   },
   "outputs": [
    {
     "data": {
      "text/plain": [
       "0.89175000000000004"
      ]
     },
     "execution_count": 63,
     "metadata": {},
     "output_type": "execute_result"
    }
   ],
   "source": [
    "rf_model = rf.fit(X_train_rfe, y_train)\n",
    "y_pred = rf_model.predict(X_test_rfe)\n",
    "acc = accuracy_score(y_true=y_test, y_pred=y_pred)\n",
    "acc"
   ]
  }
 ],
 "metadata": {
  "kernelspec": {
   "display_name": "tf3",
   "language": "python",
   "name": "tf3"
  },
  "language_info": {
   "codemirror_mode": {
    "name": "ipython",
    "version": 3
   },
   "file_extension": ".py",
   "mimetype": "text/x-python",
   "name": "python",
   "nbconvert_exporter": "python",
   "pygments_lexer": "ipython3",
   "version": "3.6.0"
  }
 },
 "nbformat": 4,
 "nbformat_minor": 2
}
