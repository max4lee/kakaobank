{
 "cells": [
  {
   "cell_type": "markdown",
   "metadata": {},
   "source": [
    "## Import Packages"
   ]
  },
  {
   "cell_type": "code",
   "execution_count": 1,
   "metadata": {
    "collapsed": true
   },
   "outputs": [],
   "source": [
    "import pandas as pd\n",
    "import numpy as np\n",
    "from sklearn.preprocessing import LabelEncoder\n",
    "from kmodes import kprototypes\n",
    "from SeriesImputer import SeriesImputer\n",
    "from sklearn.preprocessing import MinMaxScaler\n",
    "import matplotlib.pyplot as plt"
   ]
  },
  {
   "cell_type": "markdown",
   "metadata": {},
   "source": [
    "## Load Data"
   ]
  },
  {
   "cell_type": "code",
   "execution_count": 364,
   "metadata": {
    "collapsed": true
   },
   "outputs": [],
   "source": [
    "loaded_data = pd.read_csv('./dataset.tsv', sep='\\t', na_values=['unknown', -1])"
   ]
  },
  {
   "cell_type": "code",
   "execution_count": 2,
   "metadata": {
    "collapsed": true
   },
   "outputs": [],
   "source": [
    "raw_data = loaded_data.copy()"
   ]
  },
  {
   "cell_type": "code",
   "execution_count": 3,
   "metadata": {
    "collapsed": true
   },
   "outputs": [],
   "source": [
    "raw_data = raw_data.iloc[:,:8]"
   ]
  },
  {
   "cell_type": "markdown",
   "metadata": {
    "collapsed": true
   },
   "source": [
    "## Pre-processing"
   ]
  },
  {
   "cell_type": "code",
   "execution_count": 4,
   "metadata": {
    "collapsed": true
   },
   "outputs": [],
   "source": [
    "raw_data.loc[raw_data.x4=='고학력', 'x4'] = 'high'\n",
    "raw_data.loc[raw_data.x4=='중학력', 'x4'] = 'middle'\n",
    "raw_data.loc[raw_data.x4=='저학력', 'x4'] = 'low'"
   ]
  },
  {
   "cell_type": "code",
   "execution_count": 5,
   "metadata": {
    "collapsed": false
   },
   "outputs": [],
   "source": [
    "# Replace NaN values with mode values\n",
    "si = SeriesImputer()\n",
    "raw_data['x2'] = si.fit_transform(raw_data['x2'])\n",
    "raw_data['x4'] = si.fit_transform(raw_data['x4'])"
   ]
  },
  {
   "cell_type": "code",
   "execution_count": 6,
   "metadata": {
    "collapsed": false
   },
   "outputs": [],
   "source": [
    "# Replace binary categorical values with 0, 1\n",
    "le = LabelEncoder()\n",
    "raw_data['x5'] = le.fit_transform(raw_data['x5'])\n",
    "raw_data['x7'] = le.fit_transform(raw_data['x7'])\n",
    "raw_data['x8'] = le.fit_transform(raw_data['x8'])"
   ]
  },
  {
   "cell_type": "code",
   "execution_count": 7,
   "metadata": {
    "collapsed": false
   },
   "outputs": [
    {
     "name": "stderr",
     "output_type": "stream",
     "text": [
      "/Users/Coupang/anaconda/envs/tf3/lib/python3.6/site-packages/sklearn/utils/validation.py:429: DataConversionWarning: Data with input dtype int64 was converted to float64 by MinMaxScaler.\n",
      "  warnings.warn(msg, _DataConversionWarning)\n",
      "/Users/Coupang/anaconda/envs/tf3/lib/python3.6/site-packages/sklearn/preprocessing/data.py:321: DeprecationWarning: Passing 1d arrays as data is deprecated in 0.17 and will raise ValueError in 0.19. Reshape your data either using X.reshape(-1, 1) if your data has a single feature or X.reshape(1, -1) if it contains a single sample.\n",
      "  warnings.warn(DEPRECATION_MSG_1D, DeprecationWarning)\n",
      "/Users/Coupang/anaconda/envs/tf3/lib/python3.6/site-packages/sklearn/preprocessing/data.py:356: DeprecationWarning: Passing 1d arrays as data is deprecated in 0.17 and will raise ValueError in 0.19. Reshape your data either using X.reshape(-1, 1) if your data has a single feature or X.reshape(1, -1) if it contains a single sample.\n",
      "  warnings.warn(DEPRECATION_MSG_1D, DeprecationWarning)\n",
      "/Users/Coupang/anaconda/envs/tf3/lib/python3.6/site-packages/sklearn/preprocessing/data.py:321: DeprecationWarning: Passing 1d arrays as data is deprecated in 0.17 and will raise ValueError in 0.19. Reshape your data either using X.reshape(-1, 1) if your data has a single feature or X.reshape(1, -1) if it contains a single sample.\n",
      "  warnings.warn(DEPRECATION_MSG_1D, DeprecationWarning)\n",
      "/Users/Coupang/anaconda/envs/tf3/lib/python3.6/site-packages/sklearn/preprocessing/data.py:356: DeprecationWarning: Passing 1d arrays as data is deprecated in 0.17 and will raise ValueError in 0.19. Reshape your data either using X.reshape(-1, 1) if your data has a single feature or X.reshape(1, -1) if it contains a single sample.\n",
      "  warnings.warn(DEPRECATION_MSG_1D, DeprecationWarning)\n"
     ]
    }
   ],
   "source": [
    "# Transform numerical values into same scale (between 0 and 1)\n",
    "mms = MinMaxScaler()\n",
    "raw_data['x1'] = mms.fit_transform(raw_data['x1'])\n",
    "raw_data['x6'] = mms.fit_transform(raw_data['x6'])"
   ]
  },
  {
   "cell_type": "code",
   "execution_count": 8,
   "metadata": {
    "collapsed": false
   },
   "outputs": [
    {
     "data": {
      "text/html": [
       "<div>\n",
       "<table border=\"1\" class=\"dataframe\">\n",
       "  <thead>\n",
       "    <tr style=\"text-align: right;\">\n",
       "      <th></th>\n",
       "      <th>x1</th>\n",
       "      <th>x2</th>\n",
       "      <th>x3</th>\n",
       "      <th>x4</th>\n",
       "      <th>x5</th>\n",
       "      <th>x6</th>\n",
       "      <th>x7</th>\n",
       "      <th>x8</th>\n",
       "    </tr>\n",
       "  </thead>\n",
       "  <tbody>\n",
       "    <tr>\n",
       "      <th>0</th>\n",
       "      <td>0.519481</td>\n",
       "      <td>management</td>\n",
       "      <td>married</td>\n",
       "      <td>high</td>\n",
       "      <td>0</td>\n",
       "      <td>0.020984</td>\n",
       "      <td>1</td>\n",
       "      <td>0</td>\n",
       "    </tr>\n",
       "    <tr>\n",
       "      <th>1</th>\n",
       "      <td>0.337662</td>\n",
       "      <td>technician</td>\n",
       "      <td>single</td>\n",
       "      <td>middle</td>\n",
       "      <td>0</td>\n",
       "      <td>0.000284</td>\n",
       "      <td>1</td>\n",
       "      <td>0</td>\n",
       "    </tr>\n",
       "    <tr>\n",
       "      <th>2</th>\n",
       "      <td>0.194805</td>\n",
       "      <td>entrepreneur</td>\n",
       "      <td>married</td>\n",
       "      <td>middle</td>\n",
       "      <td>0</td>\n",
       "      <td>0.000020</td>\n",
       "      <td>1</td>\n",
       "      <td>1</td>\n",
       "    </tr>\n",
       "    <tr>\n",
       "      <th>3</th>\n",
       "      <td>0.376623</td>\n",
       "      <td>blue-collar</td>\n",
       "      <td>married</td>\n",
       "      <td>middle</td>\n",
       "      <td>0</td>\n",
       "      <td>0.014746</td>\n",
       "      <td>1</td>\n",
       "      <td>0</td>\n",
       "    </tr>\n",
       "    <tr>\n",
       "      <th>4</th>\n",
       "      <td>0.194805</td>\n",
       "      <td>management</td>\n",
       "      <td>single</td>\n",
       "      <td>middle</td>\n",
       "      <td>0</td>\n",
       "      <td>0.000010</td>\n",
       "      <td>0</td>\n",
       "      <td>0</td>\n",
       "    </tr>\n",
       "  </tbody>\n",
       "</table>\n",
       "</div>"
      ],
      "text/plain": [
       "         x1            x2       x3      x4  x5        x6  x7  x8\n",
       "0  0.519481    management  married    high   0  0.020984   1   0\n",
       "1  0.337662    technician   single  middle   0  0.000284   1   0\n",
       "2  0.194805  entrepreneur  married  middle   0  0.000020   1   1\n",
       "3  0.376623   blue-collar  married  middle   0  0.014746   1   0\n",
       "4  0.194805    management   single  middle   0  0.000010   0   0"
      ]
     },
     "execution_count": 8,
     "metadata": {},
     "output_type": "execute_result"
    }
   ],
   "source": [
    "raw_data.head()"
   ]
  },
  {
   "cell_type": "markdown",
   "metadata": {},
   "source": [
    "## Random Sampling for deciding number of clusters"
   ]
  },
  {
   "cell_type": "code",
   "execution_count": 10,
   "metadata": {
    "collapsed": true
   },
   "outputs": [],
   "source": [
    "use_data = raw_data.sample(frac=0.1, replace=False)"
   ]
  },
  {
   "cell_type": "markdown",
   "metadata": {},
   "source": [
    "## Find proper number of clusters with elbow method"
   ]
  },
  {
   "cell_type": "code",
   "execution_count": 11,
   "metadata": {
    "collapsed": true
   },
   "outputs": [],
   "source": [
    "use_array = use_data.as_matrix()\n",
    "costs=[]"
   ]
  },
  {
   "cell_type": "code",
   "execution_count": 12,
   "metadata": {
    "collapsed": false
   },
   "outputs": [
    {
     "name": "stdout",
     "output_type": "stream",
     "text": [
      "Cost for 1 clusters : 875.35\n",
      "Cost for 2 clusters : 666.88\n",
      "Cost for 3 clusters : 582.33\n",
      "Cost for 4 clusters : 537.68\n",
      "Cost for 5 clusters : 502.79\n",
      "Cost for 6 clusters : 470.57\n",
      "Cost for 7 clusters : 437.91\n",
      "Cost for 8 clusters : 415.97\n",
      "Cost for 9 clusters : 409.92\n",
      "[875.35182878809792, 666.88044167447367, 582.32784838290729, 537.68389229688023, 502.79298376095414, 470.57031938741795, 437.91352795687033, 415.97393310074949, 409.92467334988356]\n"
     ]
    }
   ],
   "source": [
    "for i in range(1, 10):\n",
    "    kproto = kprototypes.KPrototypes(n_clusters=i,\n",
    "                                    init='random')\n",
    "    clusters = kproto.fit_predict(use_array, categorical=[1,2,3,4,6,7])\n",
    "    costs.append(kproto.cost_)\n",
    "    print(\"Cost for %s clusters : %.2f\" % (i, kproto.cost_))\n",
    "print(costs)"
   ]
  },
  {
   "cell_type": "code",
   "execution_count": 13,
   "metadata": {
    "collapsed": false
   },
   "outputs": [
    {
     "data": {
      "image/png": "[encoded data removed]",
      "text/plain": [
       "<matplotlib.figure.Figure at 0x11b09abe0>"
      ]
     },
     "metadata": {},
     "output_type": "display_data"
    }
   ],
   "source": [
    "plt.plot(range(1,10), costs, marker='o')\n",
    "plt.xlabel('Number of Clusters')\n",
    "plt.ylabel('Costs')\n",
    "plt.show()"
   ]
  },
  {
   "cell_type": "markdown",
   "metadata": {},
   "source": [
    "## Clustering with all samples"
   ]
  },
  {
   "cell_type": "code",
   "execution_count": 23,
   "metadata": {
    "collapsed": false
   },
   "outputs": [],
   "source": [
    "kproto_all = kprototypes.KPrototypes(n_clusters=3, n_init=1, init='random')"
   ]
  },
  {
   "cell_type": "code",
   "execution_count": 24,
   "metadata": {
    "collapsed": true
   },
   "outputs": [],
   "source": [
    "raw_array = raw_data.as_matrix()"
   ]
  },
  {
   "cell_type": "code",
   "execution_count": 25,
   "metadata": {
    "collapsed": false
   },
   "outputs": [
    {
     "data": {
      "text/plain": [
       "(40000, 8)"
      ]
     },
     "execution_count": 25,
     "metadata": {},
     "output_type": "execute_result"
    }
   ],
   "source": [
    "raw_array.shape"
   ]
  },
  {
   "cell_type": "code",
   "execution_count": 26,
   "metadata": {
    "collapsed": false
   },
   "outputs": [],
   "source": [
    "clusters_all = kproto_all.fit_predict(raw_array, categorical=[1,2,3,4,6,7])"
   ]
  },
  {
   "cell_type": "code",
   "execution_count": 27,
   "metadata": {
    "collapsed": false
   },
   "outputs": [
    {
     "data": {
      "text/plain": [
       "[array([[ 0.28035906,  0.01794572],\n",
       "        [ 0.36270158,  0.01574009],\n",
       "        [ 0.25722895,  0.01164447]]),\n",
       " array([['management', 'married', 'high', '0', '1', '0'],\n",
       "        ['technician', 'married', 'middle', '0', '0', '0'],\n",
       "        ['blue-collar', 'married', 'middle', '0', '1', '0']], \n",
       "       dtype='<U21')]"
      ]
     },
     "execution_count": 27,
     "metadata": {},
     "output_type": "execute_result"
    }
   ],
   "source": [
    "kproto_all.cluster_centroids_"
   ]
  },
  {
   "cell_type": "code",
   "execution_count": 391,
   "metadata": {
    "collapsed": false
   },
   "outputs": [
    {
     "data": {
      "image/png": "[encoded data removed]",
      "text/plain": [
       "<matplotlib.figure.Figure at 0x137d38358>"
      ]
     },
     "metadata": {},
     "output_type": "display_data"
    }
   ],
   "source": [
    "fig, ax = plt.subplots(nrows=1, ncols=3, figsize=(20,5))\n",
    "for i in np.unique(clusters_all):\n",
    "    ax[i].hist(loaded_data['x1'][clusters_all==i])\n",
    "    ax[i].set_xlabel(\"group %s\" % i)\n",
    "    ax[i].set_ylim([0, 16000])\n",
    "plt.show()"
   ]
  },
  {
   "cell_type": "code",
   "execution_count": 394,
   "metadata": {
    "collapsed": true
   },
   "outputs": [],
   "source": [
    "age_df = pd.DataFrame()\n",
    "for i in np.unique(clusters_all):\n",
    "    cl_df = pd.DataFrame(loaded_data['x1'][clusters_all==i].describe())\n",
    "    age_df = pd.concat([age_df, cl_df], axis=1)\n",
    "age_df.columns = [0,1,2]"
   ]
  },
  {
   "cell_type": "code",
   "execution_count": 395,
   "metadata": {
    "collapsed": false,
    "scrolled": true
   },
   "outputs": [
    {
     "data": {
      "text/html": [
       "<div>\n",
       "<table border=\"1\" class=\"dataframe\">\n",
       "  <thead>\n",
       "    <tr style=\"text-align: right;\">\n",
       "      <th></th>\n",
       "      <th>0</th>\n",
       "      <th>1</th>\n",
       "      <th>2</th>\n",
       "    </tr>\n",
       "  </thead>\n",
       "  <tbody>\n",
       "    <tr>\n",
       "      <th>count</th>\n",
       "      <td>11609.000000</td>\n",
       "      <td>13518.000000</td>\n",
       "      <td>14873.000000</td>\n",
       "    </tr>\n",
       "    <tr>\n",
       "      <th>mean</th>\n",
       "      <td>39.587648</td>\n",
       "      <td>45.928022</td>\n",
       "      <td>37.806629</td>\n",
       "    </tr>\n",
       "    <tr>\n",
       "      <th>std</th>\n",
       "      <td>9.390667</td>\n",
       "      <td>12.286381</td>\n",
       "      <td>8.408679</td>\n",
       "    </tr>\n",
       "    <tr>\n",
       "      <th>min</th>\n",
       "      <td>20.000000</td>\n",
       "      <td>18.000000</td>\n",
       "      <td>20.000000</td>\n",
       "    </tr>\n",
       "    <tr>\n",
       "      <th>25%</th>\n",
       "      <td>32.000000</td>\n",
       "      <td>36.000000</td>\n",
       "      <td>32.000000</td>\n",
       "    </tr>\n",
       "    <tr>\n",
       "      <th>50%</th>\n",
       "      <td>37.000000</td>\n",
       "      <td>46.000000</td>\n",
       "      <td>36.000000</td>\n",
       "    </tr>\n",
       "    <tr>\n",
       "      <th>75%</th>\n",
       "      <td>46.000000</td>\n",
       "      <td>55.000000</td>\n",
       "      <td>43.000000</td>\n",
       "    </tr>\n",
       "    <tr>\n",
       "      <th>max</th>\n",
       "      <td>81.000000</td>\n",
       "      <td>95.000000</td>\n",
       "      <td>73.000000</td>\n",
       "    </tr>\n",
       "  </tbody>\n",
       "</table>\n",
       "</div>"
      ],
      "text/plain": [
       "                  0             1             2\n",
       "count  11609.000000  13518.000000  14873.000000\n",
       "mean      39.587648     45.928022     37.806629\n",
       "std        9.390667     12.286381      8.408679\n",
       "min       20.000000     18.000000     20.000000\n",
       "25%       32.000000     36.000000     32.000000\n",
       "50%       37.000000     46.000000     36.000000\n",
       "75%       46.000000     55.000000     43.000000\n",
       "max       81.000000     95.000000     73.000000"
      ]
     },
     "execution_count": 395,
     "metadata": {},
     "output_type": "execute_result"
    }
   ],
   "source": [
    "age_df"
   ]
  },
  {
   "cell_type": "code",
   "execution_count": 342,
   "metadata": {
    "collapsed": false
   },
   "outputs": [
    {
     "data": {
      "image/png": "[encoded data removed]",
      "text/plain": [
       "<matplotlib.figure.Figure at 0x11f39ffd0>"
      ]
     },
     "metadata": {},
     "output_type": "display_data"
    }
   ],
   "source": [
    "## x2 jobs\n",
    "fig, ax = plt.subplots(nrows=3, ncols=1, figsize=(20,10))\n",
    "for i in np.unique(clusters_all):\n",
    "    vc = pd.DataFrame(raw_data[clusters_all==i].x2.value_counts().reset_index())\n",
    "    cols = np.array(vc['index'])\n",
    "    pos = np.arange(len(vc.iloc[:,0]))\n",
    "    ax[i].bar(pos, vc.iloc[:,1])\n",
    "    ax[i].set_xlabel(\"group %s\" % i)\n",
    "    ax[i].set_xticks(pos)\n",
    "    ax[i].set_xticklabels(cols)\n",
    "plt.show()"
   ]
  },
  {
   "cell_type": "code",
   "execution_count": 302,
   "metadata": {
    "collapsed": false
   },
   "outputs": [
    {
     "data": {
      "text/plain": [
       "[array([[ 0.20183294,  0.01254177],\n",
       "        [ 0.31859395,  0.01819414],\n",
       "        [ 0.35386211,  0.01373031]]),\n",
       " array([['technician', 'single', 'middle', '0', '1', '0'],\n",
       "        ['management', 'married', 'high', '0', '0', '0'],\n",
       "        ['blue-collar', 'married', 'middle', '0', '1', '0']], \n",
       "       dtype='<U21')]"
      ]
     },
     "execution_count": 302,
     "metadata": {},
     "output_type": "execute_result"
    }
   ],
   "source": [
    "kproto_all.cluster_centroids_"
   ]
  },
  {
   "cell_type": "code",
   "execution_count": 352,
   "metadata": {
    "collapsed": false
   },
   "outputs": [
    {
     "data": {
      "image/png": "[encoded data removed]",
      "text/plain": [
       "<matplotlib.figure.Figure at 0x11b19ebe0>"
      ]
     },
     "metadata": {},
     "output_type": "display_data"
    }
   ],
   "source": [
    "## x3 marriage\n",
    "fig, ax = plt.subplots(nrows=1, ncols=3, figsize=(10,3))\n",
    "for i in np.unique(clusters_all):\n",
    "    vc = pd.DataFrame(raw_data[clusters_all==i].x3.value_counts().reset_index())\n",
    "    cols = np.array(vc['index'])\n",
    "    pos = np.arange(len(vc.iloc[:,0]))\n",
    "    ax[i].bar(pos, vc.iloc[:,1])\n",
    "    ax[i].set_xlabel(\"group %s\" % i)\n",
    "    ax[i].set_xticks(pos)\n",
    "    ax[i].set_xticklabels(cols)\n",
    "plt.tight_layout()\n",
    "plt.show()"
   ]
  },
  {
   "cell_type": "code",
   "execution_count": 353,
   "metadata": {
    "collapsed": false
   },
   "outputs": [
    {
     "data": {
      "image/png": "[encoded data removed]",
      "text/plain": [
       "<matplotlib.figure.Figure at 0x12171eba8>"
      ]
     },
     "metadata": {},
     "output_type": "display_data"
    }
   ],
   "source": [
    "## x4 education\n",
    "fig, ax = plt.subplots(nrows=1, ncols=3, figsize=(10,3))\n",
    "for i in np.unique(clusters_all):\n",
    "    vc = pd.DataFrame(raw_data[clusters_all==i].x4.value_counts().reset_index())\n",
    "    cols = np.array(vc['index'])\n",
    "    pos = np.arange(len(vc.iloc[:,0]))\n",
    "    ax[i].bar(pos, vc.iloc[:,1])\n",
    "    ax[i].set_xlabel(\"group %s\" % i)\n",
    "    ax[i].set_xticks(pos)\n",
    "    ax[i].set_xticklabels(cols)\n",
    "plt.tight_layout()\n",
    "plt.show()"
   ]
  },
  {
   "cell_type": "code",
   "execution_count": 354,
   "metadata": {
    "collapsed": false
   },
   "outputs": [
    {
     "data": {
      "image/png": "[encoded data removed]",
      "text/plain": [
       "<matplotlib.figure.Figure at 0x120096080>"
      ]
     },
     "metadata": {},
     "output_type": "display_data"
    }
   ],
   "source": [
    "## x5 default\n",
    "fig, ax = plt.subplots(nrows=1, ncols=3, figsize=(10,3))\n",
    "for i in np.unique(clusters_all):\n",
    "    vc = pd.DataFrame(raw_data[clusters_all==i].x5.value_counts().reset_index())\n",
    "    cols = np.array(vc['index'])\n",
    "    pos = np.arange(len(vc.iloc[:,0]))\n",
    "    ax[i].bar(pos, vc.iloc[:,1])\n",
    "    ax[i].set_xlabel(\"group %s\" % i)\n",
    "    ax[i].set_xticks(pos)\n",
    "    ax[i].set_xticklabels(cols)\n",
    "plt.tight_layout()\n",
    "plt.show()"
   ]
  },
  {
   "cell_type": "code",
   "execution_count": 355,
   "metadata": {
    "collapsed": false
   },
   "outputs": [
    {
     "data": {
      "image/png": "[encoded data removed]",
      "text/plain": [
       "<matplotlib.figure.Figure at 0x120131eb8>"
      ]
     },
     "metadata": {},
     "output_type": "display_data"
    }
   ],
   "source": [
    "## x6 balance\n",
    "fig, ax = plt.subplots(nrows=1, ncols=3, figsize=(20,5))\n",
    "for i in np.unique(clusters_all):\n",
    "    ax[i].hist(raw_data['x6'][clusters_all==i])\n",
    "    ax[i].set_xlabel(\"group %s\" % i)\n",
    "    ax[i].set_ylim([0, 16000])\n",
    "plt.tight_layout()\n",
    "plt.show()"
   ]
  },
  {
   "cell_type": "code",
   "execution_count": 396,
   "metadata": {
    "collapsed": false
   },
   "outputs": [],
   "source": [
    "balance_df = pd.DataFrame()\n",
    "for i in np.unique(clusters_all):\n",
    "    cl_df = pd.DataFrame(loaded_data['x6'][clusters_all==i].describe())\n",
    "    balance_df = pd.concat([balance_df, cl_df], axis=1)\n",
    "balance_df.columns = [0,1,2]"
   ]
  },
  {
   "cell_type": "code",
   "execution_count": 397,
   "metadata": {
    "collapsed": false,
    "scrolled": true
   },
   "outputs": [
    {
     "data": {
      "text/html": [
       "<div>\n",
       "<table border=\"1\" class=\"dataframe\">\n",
       "  <thead>\n",
       "    <tr style=\"text-align: right;\">\n",
       "      <th></th>\n",
       "      <th>0</th>\n",
       "      <th>1</th>\n",
       "      <th>2</th>\n",
       "    </tr>\n",
       "  </thead>\n",
       "  <tbody>\n",
       "    <tr>\n",
       "      <th>count</th>\n",
       "      <td>11609.000000</td>\n",
       "      <td>13518.000000</td>\n",
       "      <td>14873.000000</td>\n",
       "    </tr>\n",
       "    <tr>\n",
       "      <th>mean</th>\n",
       "      <td>1832.742786</td>\n",
       "      <td>1607.488312</td>\n",
       "      <td>1189.214281</td>\n",
       "    </tr>\n",
       "    <tr>\n",
       "      <th>std</th>\n",
       "      <td>3779.577328</td>\n",
       "      <td>3407.688282</td>\n",
       "      <td>2192.184981</td>\n",
       "    </tr>\n",
       "    <tr>\n",
       "      <th>min</th>\n",
       "      <td>0.000000</td>\n",
       "      <td>0.000000</td>\n",
       "      <td>0.000000</td>\n",
       "    </tr>\n",
       "    <tr>\n",
       "      <th>25%</th>\n",
       "      <td>168.000000</td>\n",
       "      <td>130.000000</td>\n",
       "      <td>146.000000</td>\n",
       "    </tr>\n",
       "    <tr>\n",
       "      <th>50%</th>\n",
       "      <td>633.000000</td>\n",
       "      <td>568.000000</td>\n",
       "      <td>476.000000</td>\n",
       "    </tr>\n",
       "    <tr>\n",
       "      <th>75%</th>\n",
       "      <td>1884.000000</td>\n",
       "      <td>1755.000000</td>\n",
       "      <td>1279.000000</td>\n",
       "    </tr>\n",
       "    <tr>\n",
       "      <th>max</th>\n",
       "      <td>102127.000000</td>\n",
       "      <td>81204.000000</td>\n",
       "      <td>58544.000000</td>\n",
       "    </tr>\n",
       "  </tbody>\n",
       "</table>\n",
       "</div>"
      ],
      "text/plain": [
       "                   0             1             2\n",
       "count   11609.000000  13518.000000  14873.000000\n",
       "mean     1832.742786   1607.488312   1189.214281\n",
       "std      3779.577328   3407.688282   2192.184981\n",
       "min         0.000000      0.000000      0.000000\n",
       "25%       168.000000    130.000000    146.000000\n",
       "50%       633.000000    568.000000    476.000000\n",
       "75%      1884.000000   1755.000000   1279.000000\n",
       "max    102127.000000  81204.000000  58544.000000"
      ]
     },
     "execution_count": 397,
     "metadata": {},
     "output_type": "execute_result"
    }
   ],
   "source": [
    "balance_df"
   ]
  },
  {
   "cell_type": "code",
   "execution_count": 372,
   "metadata": {
    "collapsed": false
   },
   "outputs": [
    {
     "data": {
      "image/png": "[encoded data removed]",
      "text/plain": [
       "<matplotlib.figure.Figure at 0x13730a828>"
      ]
     },
     "metadata": {},
     "output_type": "display_data"
    }
   ],
   "source": [
    "## x7 housing loan\n",
    "fig, ax = plt.subplots(nrows=1, ncols=3, figsize=(10,3))\n",
    "for i in np.unique(clusters_all):\n",
    "    vc = pd.DataFrame(raw_data[clusters_all==i].x7.value_counts().reset_index())\n",
    "    cols = np.array(vc['index'])\n",
    "    pos = np.arange(len(vc.iloc[:,0]))\n",
    "    ax[i].bar(pos, vc.iloc[:,1])\n",
    "    ax[i].set_xlabel(\"group %s\" % i)\n",
    "    ax[i].set_xticks(pos)\n",
    "    ax[i].set_xticklabels(cols)\n",
    "plt.tight_layout()\n",
    "plt.show()"
   ]
  },
  {
   "cell_type": "code",
   "execution_count": 373,
   "metadata": {
    "collapsed": false
   },
   "outputs": [
    {
     "data": {
      "image/png": "[encoded data removed]",
      "text/plain": [
       "<matplotlib.figure.Figure at 0x1374a6f60>"
      ]
     },
     "metadata": {},
     "output_type": "display_data"
    }
   ],
   "source": [
    "## x8 credit loan\n",
    "fig, ax = plt.subplots(nrows=1, ncols=3, figsize=(10,3))\n",
    "for i in np.unique(clusters_all):\n",
    "    vc = pd.DataFrame(raw_data[clusters_all==i].x8.value_counts().reset_index())\n",
    "    cols = np.array(vc['index'])\n",
    "    pos = np.arange(len(vc.iloc[:,0]))\n",
    "    ax[i].bar(pos, vc.iloc[:,1])\n",
    "    ax[i].set_xlabel(\"group %s\" % i)\n",
    "    ax[i].set_xticks(pos)\n",
    "    ax[i].set_xticklabels(cols)\n",
    "plt.tight_layout()\n",
    "plt.show()"
   ]
  },
  {
   "cell_type": "code",
   "execution_count": null,
   "metadata": {
    "collapsed": true
   },
   "outputs": [],
   "source": []
  }
 ],
 "metadata": {
  "kernelspec": {
   "display_name": "tf3",
   "language": "python",
   "name": "tf3"
  },
  "language_info": {
   "codemirror_mode": {
    "name": "ipython",
    "version": 3
   },
   "file_extension": ".py",
   "mimetype": "text/x-python",
   "name": "python",
   "nbconvert_exporter": "python",
   "pygments_lexer": "ipython3",
   "version": "3.6.0"
  }
 },
 "nbformat": 4,
 "nbformat_minor": 2
}
